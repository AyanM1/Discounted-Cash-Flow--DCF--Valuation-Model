{
 "cells": [
  {
   "cell_type": "markdown",
   "id": "716d5118",
   "metadata": {},
   "source": [
    "# Credit Risk Analysis\n",
    "This notebook covers data exploration, feature engineering, model training, and evaluation for credit risk assessment."
   ]
  },
  {
   "cell_type": "code",
   "execution_count": null,
   "id": "78da6503",
   "metadata": {},
   "outputs": [],
   "source": [
    "# Import libraries\n",
    "import pandas as pd\n",
    "import numpy as np\n",
    "import matplotlib.pyplot as plt\n",
    "import seaborn as sns\n",
    "from sklearn.model_selection import train_test_split\n",
    "from sklearn.metrics import roc_auc_score, accuracy_score, confusion_matrix, classification_report\n",
    "from sklearn.linear_model import LogisticRegression\n",
    "from sklearn.ensemble import RandomForestClassifier\n",
    "from xgboost import XGBClassifier\n",
    "from imblearn.over_sampling import SMOTE"
   ]
  },
  {
   "cell_type": "markdown",
   "id": "c5ba3887",
   "metadata": {},
   "source": [
    "## Data Exploration & EDA"
   ]
  },
  {
   "cell_type": "code",
   "execution_count": null,
   "id": "2bfe3008",
   "metadata": {},
   "outputs": [],
   "source": [
    "# Load and explore data\n",
    "df = pd.read_csv('../data/loan_data.csv')\n",
    "df.info()\n",
    "df.describe()\n",
    "sns.countplot(x='default', data=df)\n",
    "plt.show()"
   ]
  },
  {
   "cell_type": "markdown",
   "id": "41c1ec5c",
   "metadata": {},
   "source": [
    "## Feature Engineering"
   ]
  },
  {
   "cell_type": "code",
   "execution_count": null,
   "id": "fdee402c",
   "metadata": {},
   "outputs": [],
   "source": [
    "# Feature engineering example\n",
    "df['debt_to_income'] = df['amount'] / df['annual_income']"
   ]
  },
  {
   "cell_type": "markdown",
   "id": "75eed785",
   "metadata": {},
   "source": [
    "## Model Training & Testing"
   ]
  },
  {
   "cell_type": "code",
   "execution_count": null,
   "id": "3e9e10a7",
   "metadata": {},
   "outputs": [],
   "source": [
    "# Split data\n",
    "X = df.drop('default', axis=1)\n",
    "y = df['default']\n",
    "X_train, X_test, y_train, y_test = train_test_split(X, y, test_size=0.2, random_state=42)\n",
    "# Balance data\n",
    "smote = SMOTE()\n",
    "X_train_res, y_train_res = smote.fit_resample(X_train, y_train)\n",
    "# Train models\n",
    "lr = LogisticRegression().fit(X_train_res, y_train_res)\n",
    "rf = RandomForestClassifier().fit(X_train_res, y_train_res)\n",
    "xgb = XGBClassifier().fit(X_train_res, y_train_res)"
   ]
  },
  {
   "cell_type": "markdown",
   "id": "7bed5618",
   "metadata": {},
   "source": [
    "## Model Evaluation"
   ]
  },
  {
   "cell_type": "code",
   "execution_count": null,
   "id": "f9d88202",
   "metadata": {},
   "outputs": [],
   "source": [
    "# Evaluate models\n",
    "for model in [lr, rf, xgb]:\n",
    "    y_pred = model.predict(X_test)\n",
    "    print(f'AUC: {roc_auc_score(y_test, y_pred):.2f}')\n",
    "    print(f'Accuracy: {accuracy_score(y_test, y_pred):.2f}')\n",
    "    print(confusion_matrix(y_test, y_pred))\n",
    "    print(classification_report(y_test, y_pred))"
   ]
  },
  {
   "cell_type": "markdown",
   "id": "2461a4d3",
   "metadata": {},
   "source": [
    "## Feature Importance"
   ]
  },
  {
   "cell_type": "code",
   "execution_count": null,
   "id": "db3b79fe",
   "metadata": {},
   "outputs": [],
   "source": [
    "# Feature importance for Random Forest\n",
    "importances = rf.feature_importances_\n",
    "feat_names = X.columns\n",
    "sns.barplot(x=importances, y=feat_names)\n",
    "plt.title('Feature Importance')\n",
    "plt.show()"
   ]
  }
 ],
 "metadata": {
  "language_info": {
   "name": "python"
  }
 },
 "nbformat": 4,
 "nbformat_minor": 5
}
